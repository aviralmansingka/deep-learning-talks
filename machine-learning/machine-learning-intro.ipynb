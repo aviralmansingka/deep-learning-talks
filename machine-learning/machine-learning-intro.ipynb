{
 "cells": [
  {
   "cell_type": "code",
   "execution_count": 10,
   "metadata": {
    "collapsed": false,
    "deletable": true,
    "editable": true
   },
   "outputs": [],
   "source": [
    "%matplotlib inline\n",
    "import sys\n",
    "import string\n",
    "import copy\n",
    "from collections import Counter\n",
    "from operator import itemgetter\n",
    "import numpy as np\n",
    "from math import exp\n",
    "import matplotlib.pyplot as plt\n",
    "\n",
    "from tabulate import tabulate\n",
    "from collections import defaultdict\n",
    "from math import log\n",
    "from scipy import stats"
   ]
  },
  {
   "cell_type": "code",
   "execution_count": 4,
   "metadata": {
    "collapsed": false,
    "deletable": true,
    "editable": true,
    "scrolled": true
   },
   "outputs": [],
   "source": [
    "def process_str(s):\n",
    "    return s.translate(str.maketrans('', '', string.punctuation)).lower().split()\n",
    "\n",
    "def read_dataset(file_name):\n",
    "    dataset = []\n",
    "    with open(file_name) as f:\n",
    "        for line in f:\n",
    "            try:\n",
    "                index, class_label, text = line.strip().split('\\t')\n",
    "                words = process_str(text)\n",
    "                dataset.append( (int(class_label), set(words)) )\n",
    "            except ValueError:\n",
    "                pass\n",
    "    return dataset\n",
    "\n",
    "def get_most_commons(dataset, skip=100, total=4000):\n",
    "    my_list = []\n",
    "    for item in dataset:\n",
    "        my_list += list(item[1])\n",
    "\n",
    "    counter = Counter(my_list)\n",
    "\n",
    "    temp = counter.most_common(total+skip)[skip:]\n",
    "    words = [item[0] for item in temp]\n",
    "    return words\n",
    "\n",
    "def generate_vectors(dataset, common_words, ternary, bias_term):\n",
    "    d = {}\n",
    "    for i in range(len(common_words)):\n",
    "        d[common_words[i]] = i\n",
    "\n",
    "    vectors = []\n",
    "    for item in dataset:\n",
    "        vector = [0] * len(common_words)\n",
    "        for word in item[1]:\n",
    "            if word in d:\n",
    "                if vector[d[word]] is 1 and ternary:\n",
    "                    vector[d[word]] = 2\n",
    "                vector[d[word]] = 1\n",
    "\n",
    "        if bias_term:\n",
    "            vector.append(1.0)\n",
    "\n",
    "        vectors.append( (item[0], np.array(vector)) )\n",
    "\n",
    "    return vectors\n",
    "\n",
    "def random_sample(data, proportion):\n",
    "    \n",
    "    count = int(len(data) * proportion)\n",
    "    np.random.shuffle(data)\n",
    "    return data[:count]"
   ]
  },
  {
   "cell_type": "code",
   "execution_count": 5,
   "metadata": {
    "collapsed": true,
    "deletable": true,
    "editable": true
   },
   "outputs": [],
   "source": [
    "def lr_train(train_vectors, iterations=100, reg=0.01,\n",
    "        lr=0.01, stop_diff=int(1e-6)):\n",
    "\n",
    "    count_w = len(train_vectors[0][1])\n",
    "    w = np.zeros((count_w, ))\n",
    "\n",
    "    for i in range(iterations):\n",
    "        grad = np.zeros((count_w, ))\n",
    "\n",
    "        for vector in train_vectors:\n",
    "\n",
    "            y = vector[0]\n",
    "            x = vector[1]\n",
    "\n",
    "            y_hat = lr_calc_prob(w, x)\n",
    "\n",
    "            grad += (y - y_hat)*x\n",
    "\n",
    "        grad -= reg * w\n",
    "\n",
    "        w += lr * grad\n",
    "\n",
    "        if np.linalg.norm(grad) <= stop_diff:\n",
    "            break\n",
    "\n",
    "    return w\n",
    "\n",
    "def lr_calc_prob(w, x):\n",
    "\n",
    "    denominator = 1 + exp(-1 * np.dot(w, x))\n",
    "\n",
    "    pred = 1 / denominator\n",
    "\n",
    "    return pred\n",
    "\n",
    "def lr_classify(w, x):\n",
    "\n",
    "    prob = lr_calc_prob(w, x)\n",
    "\n",
    "    if prob >= 0.5:\n",
    "        return 1\n",
    "    else:\n",
    "        return 0\n",
    "\n",
    "def lr_train_test(train_vectors, test_vectors):\n",
    "\n",
    "    w = lr_train(train_vectors)\n",
    "    incorrect = 0.0\n",
    "\n",
    "    for vector in test_vectors:\n",
    "        y = vector[0]\n",
    "        x = vector[1]\n",
    "\n",
    "        y_hat = lr_classify(w, x)\n",
    "\n",
    "        if y_hat is not y:\n",
    "            incorrect += 1\n",
    "\n",
    "    return incorrect/len(test_vectors)"
   ]
  },
  {
   "cell_type": "code",
   "execution_count": 11,
   "metadata": {
    "collapsed": false,
    "deletable": true,
    "editable": true
   },
   "outputs": [
    {
     "name": "stdout",
     "output_type": "stream",
     "text": [
      "ZERO-ONE-LOSS-LR 0.11\n"
     ]
    }
   ],
   "source": [
    "DATA_SIZE = 300\n",
    "def main(sample, model):\n",
    "    train_data_file = 'tests/yelp_train' + str(sample) + '.txt'\n",
    "    test_data_file = 'tests/yelp_test' + str(sample) + '.txt'\n",
    "\n",
    "    train_data = read_dataset(train_data_file)\n",
    "    test_data = read_dataset(test_data_file)\n",
    "\n",
    "    common_words = get_most_commons(train_data, total=500)\n",
    "\n",
    "    ternary = False\n",
    "    bias_term = True\n",
    "    \n",
    "    train_vectors = generate_vectors(train_data, common_words, ternary, True)\n",
    "    test_vectors = generate_vectors(test_data, common_words, ternary, True)\n",
    "    \n",
    "    zero_one_loss = 0\n",
    "    if model is 1:\n",
    "        zero_one_loss = lr_train_test(train_vectors, test_vectors)\n",
    "        print('ZERO-ONE-LOSS-LR ' + str(zero_one_loss))\n",
    "\n",
    "    elif model is 2:\n",
    "        zero_one_loss = svm_train_test(train_vectors, test_vectors)\n",
    "        print('ZERO-ONE-LOSS-SVM ' + str(zero_one_loss))\n",
    "\n",
    "    else:\n",
    "        print('usage: python nbc.py train.csv test.csv model')\n",
    "        print('exiting...')\n",
    "\n",
    "main(1, 1)"
   ]
  },
  {
   "cell_type": "code",
   "execution_count": 18,
   "metadata": {
    "collapsed": false,
    "deletable": true,
    "editable": true
   },
   "outputs": [
    {
     "data": {
      "image/png": "[encoded data removed]",
      "text/plain": [
       "<matplotlib.figure.Figure at 0x11215f4a8>"
      ]
     },
     "metadata": {},
     "output_type": "display_data"
    },
    {
     "data": {
      "image/png": "[encoded data removed]",
      "text/plain": [
       "<matplotlib.figure.Figure at 0x112162160>"
      ]
     },
     "metadata": {},
     "output_type": "display_data"
    }
   ],
   "source": [
    "def parse_results(data):\n",
    "    \n",
    "    nbc = []\n",
    "    lr = []\n",
    "    svm = []\n",
    "    for row in data:\n",
    "        \n",
    "        nbc_data = np.array([item[0] for item in row])\n",
    "        lr_data  = np.array([item[1] for item in row])\n",
    "        svm_data = np.array([item[2] for item in row])\n",
    "        \n",
    "        nbc_mean = np.mean(nbc_data)\n",
    "        lr_mean  = np.mean(lr_data)\n",
    "        svm_mean = np.mean(svm_data)\n",
    "        \n",
    "        nbc_se = stats.sem(nbc_data)\n",
    "        lr_se  = stats.sem(lr_data)\n",
    "        svm_se = stats.sem(svm_data)\n",
    "        \n",
    "        nbc.append([nbc_mean, nbc_se])\n",
    "        lr.append( [lr_mean , lr_se])\n",
    "        svm.append([svm_mean, svm_se])\n",
    "        \n",
    "    return nbc, lr, svm\n",
    "\n",
    "def create_graphs(result_list, flag):\n",
    "    \n",
    "    results = parse_results(result_list)\n",
    "\n",
    "    names = ['nbc', 'lr', 'svm']\n",
    "    colors = ['r', 'g', 'b']\n",
    "    train_sizes = [0.01, 0.03, 0.05, 0.08, 0.1, 0.15]\n",
    "    for i, item in enumerate(results):\n",
    "        y_axis = [row[0] for row in item]\n",
    "        y_err = [row[1] for row in item]\n",
    "        \n",
    "        plt.errorbar(train_sizes, y_axis, yerr=y_err, marker='.', ls=':', label=names[i])\n",
    "        plt.xlabel('TRAIN DATA SIZE')\n",
    "        plt.ylabel('ZERO-ONE LOSS')\n",
    "        plt.legend(loc='upper center', shadow=True)\n",
    "        \n",
    "        \n",
    "    if flag is True:\n",
    "        #plt.savefig('analysis2.png')\n",
    "        pass\n",
    "    else:\n",
    "        #plt.savefig('analysis1.png')\n",
    "        pass\n",
    "    plt.show()\n",
    "        \n",
    "        \n",
    "\n",
    "create_graphs(result_list, False)\n",
    "create_graphs(rich_result_list, True)"
   ]
  },
  {
   "cell_type": "code",
   "execution_count": null,
   "metadata": {
    "collapsed": true,
    "deletable": true,
    "editable": true
   },
   "outputs": [],
   "source": []
  }
 ],
 "metadata": {
  "kernelspec": {
   "display_name": "Python 3",
   "language": "python",
   "name": "python3"
  },
  "language_info": {
   "codemirror_mode": {
    "name": "ipython",
    "version": 3
   },
   "file_extension": ".py",
   "mimetype": "text/x-python",
   "name": "python",
   "nbconvert_exporter": "python",
   "pygments_lexer": "ipython3",
   "version": "3.6.1"
  }
 },
 "nbformat": 4,
 "nbformat_minor": 2
}
